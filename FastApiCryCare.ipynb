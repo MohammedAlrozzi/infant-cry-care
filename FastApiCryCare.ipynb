{
  "cells": [
    {
      "cell_type": "markdown",
      "metadata": {
        "id": "view-in-github",
        "colab_type": "text"
      },
      "source": [
        "<a href=\"https://colab.research.google.com/github/motazsaad/infant-cry-care/blob/main/FastApiCryCare.ipynb\" target=\"_parent\"><img src=\"https://colab.research.google.com/assets/colab-badge.svg\" alt=\"Open In Colab\"/></a>"
      ]
    },
    {
      "cell_type": "code",
      "execution_count": null,
      "metadata": {
        "id": "p78ufJkK8zsk"
      },
      "outputs": [],
      "source": [
        "!pip install fastapi nest-asyncio pyngrok uvicorn"
      ]
    },
    {
      "cell_type": "code",
      "execution_count": null,
      "metadata": {
        "colab": {
          "base_uri": "https://localhost:8080/"
        },
        "id": "buJUkW23-tWQ",
        "outputId": "04ea7a7a-238e-47f8-e979-472623fdfa1f"
      },
      "outputs": [
        {
          "output_type": "stream",
          "name": "stdout",
          "text": [
            "Drive already mounted at /content/drive; to attempt to forcibly remount, call drive.mount(\"/content/drive\", force_remount=True).\n"
          ]
        }
      ],
      "source": [
        "from google.colab import drive\n",
        "drive.mount('/content/drive')"
      ]
    },
    {
      "cell_type": "code",
      "execution_count": null,
      "metadata": {
        "id": "kQ7mPGci-kgk"
      },
      "outputs": [],
      "source": [
        "import pickle\n",
        "from keras.preprocessing.image import load_img, img_to_array\n",
        "from keras.applications.vgg16 import preprocess_input\n",
        "import librosa \n",
        "import matplotlib.pyplot as plt\n",
        "import numpy as np\n",
        "from pydantic import BaseModel\n",
        "from fastapi import FastAPI\n",
        "import nest_asyncio\n",
        "from pyngrok import ngrok\n",
        "import uvicorn\n",
        "from fastapi.encoders import jsonable_encoder\n",
        "from fastapi.responses import JSONResponse\n",
        "classes=['Hungry','Sleepy','Uncomfortable','asphyxia','burp up','lower gas','normal','pain']\n",
        "mainPath = '/content/drive/MyDrive/CryCareDataset/'\n",
        "exp4Path = mainPath + 'generatedData/Exp4/'\n",
        "filename = mainPath + 'cnn.sav'\n",
        "cnn = pickle.load(open(filename, 'rb'))\n"
      ]
    },
    {
      "cell_type": "code",
      "execution_count": null,
      "metadata": {
        "id": "HTzoGXku869X"
      },
      "outputs": [],
      "source": [
        "app = FastAPI()\n",
        "class Item(BaseModel):\n",
        "    path: str\n",
        "\n",
        "@app.post('/predictAudio')\n",
        "async def predictAudio(item: Item):\n",
        "  \n",
        "  audio = item.path\n",
        "  audiofile, sr = librosa.load(audio, sr = 11025, mono = True)\n",
        "  plt.specgram(audiofile, NFFT=2048, Fs=2, Fc=0, noverlap=128, cmap='CMRmap', sides='default', mode='default', scale='dB');\n",
        "  plt.axis('off');\n",
        "  name = audio.split('/')[-1]\n",
        "  filaname = f'{mainPath}predictedImage/{name[:-3].replace(\".\", \"\")}.png'\n",
        "  plt.savefig(filaname)\n",
        "\n",
        "  my_image = load_img(filaname, target_size=(256, 256))\n",
        "  my_image = img_to_array(my_image)\n",
        "  my_image = my_image.reshape((1, my_image.shape[0], my_image.shape[1], my_image.shape[2]))\n",
        "  # my_image = preprocess_input(my_image)\n",
        "\n",
        "  y = cnn.predict(my_image)\n",
        "  predicted_class = np.argmax(np.round(y),axis=1)[0]\n",
        "  return {\n",
        "      \"label\" : classes[predicted_class]\n",
        "      }\n",
        "\n",
        "ngrok_tunnel = ngrok.connect(8000)\n",
        "print('Public URL:', ngrok_tunnel.public_url)\n",
        "nest_asyncio.apply()\n",
        "uvicorn.run(app, port=8000)"
      ]
    }
  ],
  "metadata": {
    "colab": {
      "collapsed_sections": [],
      "name": "FastApiCryCare.ipynb",
      "provenance": [],
      "authorship_tag": "ABX9TyO7ggjWE6FYMmhfPRk7En6x",
      "include_colab_link": true
    },
    "kernelspec": {
      "display_name": "Python 3",
      "name": "python3"
    },
    "language_info": {
      "name": "python"
    }
  },
  "nbformat": 4,
  "nbformat_minor": 0
}